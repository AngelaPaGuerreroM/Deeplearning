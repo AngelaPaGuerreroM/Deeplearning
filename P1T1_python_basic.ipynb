{
  "nbformat": 4,
  "nbformat_minor": 0,
  "metadata": {
    "colab": {
      "name": "P1T1_python_basic.ipynb",
      "provenance": [],
      "toc_visible": true,
      "collapsed_sections": []
    },
    "kernelspec": {
      "name": "python3",
      "display_name": "Python 3"
    },
    "language_info": {
      "name": "python"
    }
  },
  "cells": [
    {
      "cell_type": "markdown",
      "source": [
        "#Metadata:\n",
        "---\n",
        "*   @Autor:Angela Patricia Guerrero Morales \n",
        "*   @Date:2022/Feb/12\n",
        "*   @Description:This python notebook shows basic exercises in python."
      ],
      "metadata": {
        "id": "NbNmVki7yjgo"
      }
    },
    {
      "cell_type": "markdown",
      "source": [
        "# Ejercicios básicos"
      ],
      "metadata": {
        "id": "AJl_XSPvz8vI"
      }
    },
    {
      "cell_type": "markdown",
      "source": [
        "## Ejercicio 1: Productos + IVA"
      ],
      "metadata": {
        "id": "l8C6QEuiz_px"
      }
    },
    {
      "cell_type": "code",
      "source": [
        "prod1=int(input(\"Input first product:\"))\n",
        "prod2=int(input(\"Input second product:\"))\n",
        "prod3=int(input(\"Input third product:\"))\n",
        "prod4=int(input(\"Input fourth product:\"))\n",
        "prod5=int(input(\"Input fifth product:\"))\n",
        "suma=(prod1+prod2+prod3+prod4+prod5)\n",
        "iva=suma *0.19\n",
        "total=suma+iva\n",
        "print(\"Valor bruto\",suma,\"\\nIVA:\",iva,\"\\nTOTAL:\",total)"
      ],
      "metadata": {
        "colab": {
          "base_uri": "https://localhost:8080/"
        },
        "id": "Dyr84L3Y0F2p",
        "outputId": "99ed711b-589d-4bf8-c6b9-54128ca3e846"
      },
      "execution_count": null,
      "outputs": [
        {
          "output_type": "stream",
          "name": "stdout",
          "text": [
            "Input first product:1\n",
            "Input second product:2\n",
            "Input third product:3\n",
            "Input fourth product:4\n",
            "Input fifth product:5\n",
            "Valor bruto 15 \n",
            "IVA: 2.85 \n",
            "TOTAL: 17.85\n"
          ]
        }
      ]
    },
    {
      "cell_type": "markdown",
      "source": [
        "###Versión Python"
      ],
      "metadata": {
        "id": "8qtI1FGk3toR"
      }
    },
    {
      "cell_type": "code",
      "source": [
        "pro1,pro2,pro3,pro4,pro5=input(\"input 1°,2°,3°,4° and 5° products, separate with comma:\").split(\",\")\n",
        "suma=(pro1+pro2+pro3+pro4+pro5)\n",
        "print(\"Valor bruto\",suma,\"\\nIVA:\",iva,\"\\nTOTAL:\",total)\n"
      ],
      "metadata": {
        "colab": {
          "base_uri": "https://localhost:8080/"
        },
        "id": "3VE-NyuU31IQ",
        "outputId": "9771fa7c-b70d-40ab-f6f4-aea909ea8e28"
      },
      "execution_count": null,
      "outputs": [
        {
          "output_type": "stream",
          "name": "stdout",
          "text": [
            "input 1°,2°,3°,4° and 5° products, separate with comma:1,2,3,4,5\n",
            "Valor bruto 12345 \n",
            "IVA: 2.85 \n",
            "TOTAL: 17.85\n"
          ]
        }
      ]
    },
    {
      "cell_type": "markdown",
      "source": [
        "##Ejercicio 2"
      ],
      "metadata": {
        "id": "1b0jPYzw7MKB"
      }
    },
    {
      "cell_type": "markdown",
      "source": [
        "###Versión normal"
      ],
      "metadata": {
        "id": "0WrfZ9Nz9eYC"
      }
    },
    {
      "cell_type": "code",
      "source": [
        "var1=float(int(input(\"Enter the first number: \")))\n",
        "var2=float(int(input(\"Enter the second number: \")))\n",
        "var3=float(int(input(\"Enter the third number: \")))\n",
        "if (var1 >= var2) and (var1 >= var3):\n",
        "   largest = var1\n",
        "elif (var2 >= var1) and (var2 >= var3):\n",
        "   largest = var2\n",
        "else:\n",
        "   largest = var3\n",
        "print(\"The largest number is\", largest)\n",
        "if (var1 <= var2) and (var1 <= var3):\n",
        "   smallest = var1\n",
        "elif (var2 <= var1) and (var2 <= var3):\n",
        "   smallest = var2\n",
        "else:\n",
        "   smallest = var3\n",
        "print(\"The smallest number is\", smallest)\n",
        "sum=var1+var2+var3\n",
        "average=sum/3\n",
        "print(\"The average is\", average)"
      ],
      "metadata": {
        "colab": {
          "base_uri": "https://localhost:8080/"
        },
        "id": "GK45EynF6XlJ",
        "outputId": "f0fd2df7-c825-42d3-fbb6-06c159003553"
      },
      "execution_count": null,
      "outputs": [
        {
          "output_type": "stream",
          "name": "stdout",
          "text": [
            "Enter the first number: 1\n",
            "Enter the second number: 2\n",
            "Enter the third number: 3\n",
            "The largest number is 3.0\n",
            "The smallest number is 1.0\n",
            "The average is 2.0\n"
          ]
        }
      ]
    },
    {
      "cell_type": "markdown",
      "source": [
        "###Versión Phyton"
      ],
      "metadata": {
        "id": "sE0A-g6y9jnq"
      }
    },
    {
      "cell_type": "code",
      "source": [
        "var1,var2,var3=input(\"Enter 3 numbers separated by comma:\").split(\",\")\n",
        "print(\"The largest number is:\"+str(max(int(var1),int(var2),int(var3))),\"The smallest number is: \"+str(min(int(var1),int(var2),int(var3))), \"The average is: \"+ str((int(var1)+int(var2)+int(var3))/3))\n"
      ],
      "metadata": {
        "colab": {
          "base_uri": "https://localhost:8080/"
        },
        "id": "POO92w1R9oUp",
        "outputId": "84a23f60-d93b-47aa-fcbc-5df98e64410a"
      },
      "execution_count": null,
      "outputs": [
        {
          "output_type": "stream",
          "name": "stdout",
          "text": [
            "Enter 3 numbers separated by comma:1,2,3\n",
            "The largest number is:3 The smallest number is: 1 The average is: 2.0\n"
          ]
        }
      ]
    },
    {
      "cell_type": "markdown",
      "source": [
        "##Ejercicio 3"
      ],
      "metadata": {
        "id": "TckXQavPdvr8"
      }
    },
    {
      "cell_type": "markdown",
      "source": [
        "###Método normal"
      ],
      "metadata": {
        "id": "X2z_aZmvlJeO"
      }
    },
    {
      "cell_type": "code",
      "source": [
        "list1 = []\n",
        "num = int(input(\"Enter number of elements in list: \"))\n",
        "total_sum = 0\n",
        "for i in range(1, num + 1):\n",
        "    ele= int(input(\"Enter elements: \"))\n",
        "    list1.append(ele)\n",
        "    total_sum += ele\n",
        "avg = total_sum/num\n",
        "print(\"List:\",list1)\n",
        "list1.sort()\n",
        "print(\"Sorted list in ascending order:\",list1)\n",
        "list1.sort(reverse = True)\n",
        "print(\"Sorted list in descending order:\",list1)\n",
        "maximum = max(list1)\n",
        "print(\"The largest number is:\",maximum)\n",
        "minimum = min(list1)\n",
        "print(\"The smallest number is:\",minimum)\n",
        "print(\"Average of the list =\", round(avg, 2))"
      ],
      "metadata": {
        "colab": {
          "base_uri": "https://localhost:8080/"
        },
        "id": "JZDO1ptRBKTy",
        "outputId": "276336c2-d7e0-4cca-c71b-c50878a7a420"
      },
      "execution_count": 1,
      "outputs": [
        {
          "output_type": "stream",
          "name": "stdout",
          "text": [
            "Enter number of elements in list: 3\n",
            "Enter elements: 4\n",
            "Enter elements: 6\n",
            "Enter elements: 8\n",
            "List: [4, 6, 8]\n",
            "Sorted list in ascending order: [4, 6, 8]\n",
            "Sorted list in descending order: [8, 6, 4]\n",
            "The largest number is: 8\n",
            "The smallest number is: 4\n",
            "Average of the list = 6.0\n"
          ]
        }
      ]
    },
    {
      "cell_type": "markdown",
      "source": [
        "###Método python"
      ],
      "metadata": {
        "id": "AI1MORg1xrjB"
      }
    },
    {
      "cell_type": "code",
      "source": [
        "list1 = []\n",
        "num = int(input(\"Enter number of elements in list: \"))\n",
        "total_sum=0\n",
        "for i in range(1, num + 1):\n",
        "    ele= int(input(\"Enter elements: \"))\n",
        "    list1.append(ele)\n",
        "    total_sum += ele\n",
        "\n",
        "print(\"List:\",list1)\n",
        "\n",
        "list1.sort()\n",
        "print(\"Sorted list in ascending order:\",list1)\n",
        "\n",
        "list1.sort(reverse = True)\n",
        "print(\"Sorted list in descending order:\",list1)\n",
        "\n",
        "print(\"The largest number is:\",maximum, \"The smallest number is:\",minimum, \"The average is:\",avg)"
      ],
      "metadata": {
        "id": "JANAnP6yON-m"
      },
      "execution_count": null,
      "outputs": []
    }
  ]
}